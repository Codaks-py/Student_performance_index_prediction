{
 "cells": [
  {
   "cell_type": "code",
   "execution_count": null,
   "id": "2b29ae04-a68c-4ad7-8d81-7aa05379487b",
   "metadata": {},
   "outputs": [],
   "source": []
  }
 ],
 "metadata": {
  "kernelspec": {
   "display_name": "",
   "name": ""
  },
  "language_info": {
   "name": ""
  }
 },
 "nbformat": 4,
 "nbformat_minor": 5
}
